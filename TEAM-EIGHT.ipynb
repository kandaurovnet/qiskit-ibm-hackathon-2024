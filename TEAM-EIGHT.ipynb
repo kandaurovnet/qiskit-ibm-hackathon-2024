{
 "cells": [
  {
   "cell_type": "code",
   "execution_count": 1,
   "id": "2ee35db1-f687-4a5a-bf67-7ebdb30a2fd7",
   "metadata": {},
   "outputs": [
    {
     "name": "stdout",
     "output_type": "stream",
     "text": [
      "1.1.1\n"
     ]
    }
   ],
   "source": [
    "import qiskit\n",
    "print(qiskit.version.get_version_info())\n",
    "from qiskit import QuantumCircuit\n",
    "from qiskit import QuantumRegister, ClassicalRegister, QuantumCircuit\n",
    "from qiskit.circuit import Parameter"
   ]
  },
  {
   "cell_type": "code",
   "execution_count": 7,
   "id": "0afe5a24-2a7d-4555-b265-0042ffab328f",
   "metadata": {
    "scrolled": true
   },
   "outputs": [
    {
     "name": "stdout",
     "output_type": "stream",
     "text": [
      "     ┌───────┐     ┌───────┐                                              \n",
      "q_0: ┤ Ry(0) ├──■──┤ Ry(0) ├─────────────■────────────────────────────────\n",
      "     ├───────┤┌─┴─┐└───────┘┌───────┐  ┌─┴─┐                              \n",
      "q_1: ┤ Ry(0) ├┤ X ├────■────┤ Ry(0) ├──┤ X ├──────■───────────────────────\n",
      "     ├───────┤└───┘  ┌─┴─┐  └───────┘┌─┴───┴─┐  ┌─┴─┐                     \n",
      "q_2: ┤ Ry(0) ├───────┤ X ├──────■────┤ Ry(0) ├──┤ X ├──────■──────────────\n",
      "     ├───────┤       └───┘    ┌─┴─┐  └───────┘┌─┴───┴─┐  ┌─┴─┐            \n",
      "q_3: ┤ Ry(0) ├────────────────┤ X ├──────■────┤ Ry(0) ├──┤ X ├────■───────\n",
      "     ├───────┤                └───┘    ┌─┴─┐  └───────┘┌─┴───┴─┐┌─┴─┐     \n",
      "q_4: ┤ Ry(0) ├─────────────────────────┤ X ├──────■────┤ Ry(0) ├┤ X ├──■──\n",
      "     ├───────┤                         └───┘    ┌─┴─┐  ├───────┤└───┘┌─┴─┐\n",
      "q_5: ┤ Ry(0) ├──────────────────────────────────┤ X ├──┤ Ry(0) ├─────┤ X ├\n",
      "     └───────┘                                  └───┘  └───────┘     └───┘\n"
     ]
    }
   ],
   "source": [
    "# Step 1 -- Distributable Quantum Circuit\n",
    "# Input: N/D.\n",
    "# Output: `circuit`.\n",
    "\n",
    "def constructQVC(n, k):    \n",
    "    # Create a quantum circuit with 3 qubits\n",
    "    num_qubits = n\n",
    "    depth = k\n",
    "    qc = QuantumCircuit(num_qubits)\n",
    "\n",
    "    for i in range(k):\n",
    "        # Add parameterized rotation gates\n",
    "        for qubit in range(num_qubits):\n",
    "            qc.ry(0, qubit)\n",
    "        \n",
    "        # Add a layer of CNOT gates (entangling layer)\n",
    "        for qubit in range(num_qubits - 1):\n",
    "            qc.cx(qubit, qubit + 1)\n",
    "\n",
    "    return qc\n",
    "\n",
    "circuit = constructQVC(6, 2)\n",
    "print(circuit)"
   ]
  },
  {
   "cell_type": "code",
   "execution_count": 3,
   "id": "d8df4fe0-59a2-47a0-bc64-f11b36b7e1b6",
   "metadata": {},
   "outputs": [
    {
     "name": "stdout",
     "output_type": "stream",
     "text": [
      "                                                   ┌────────────┐        »\n",
      "q0_0: ─────────────────────────────────────────────┤ U(0,0,0,0) ├────────»\n",
      "      ┌───┐               ┌──────   ┌───┐ ───────┐ └─────┬──────┘┌───┐┌─┐»\n",
      "q0_1: ┤ H ├──■────────────┤       ──┤ X ├        ├───────■───────┤ H ├┤M├»\n",
      "      └───┘┌─┴─┐┌───┐┌─┐  │ If-0    ├───┤  End-0 │               └───┘└╥┘»\n",
      "q0_2: ─────┤ X ├┤ X ├┤M├──┤       ──┤ X ├        ├─────────────────────╫─»\n",
      "           └───┘└─┬─┘└╥┘  └──╥───   └───┘ ───────┘                     ║ »\n",
      "q0_3: ────────────■───╫──────╫─────────────────────────────────────────╫─»\n",
      "                      ║ ┌────╨─────┐                                   ║ »\n",
      "c0: 4/════════════════╩═╡ c0_0=0x1 ╞═══════════════════════════════════╩═»\n",
      "                      2 └──────────┘                                   1 »\n",
      "«                                 ┌─┐\n",
      "«q0_0: ───────────────────────────┤M├\n",
      "«        ┌──────   ┌───┐ ───────┐ └╥┘\n",
      "«q0_1: ──┤       ──┤ Z ├        ├──╫─\n",
      "«        │         └───┘        │  ║ \n",
      "«q0_2: ──┤ If-0  ───────  End-0 ├──╫─\n",
      "«        │         ┌───┐        │  ║ \n",
      "«q0_3: ──┤       ──┤ X ├        ├──╫─\n",
      "«        └──╥───   └───┘ ───────┘  ║ \n",
      "«      ┌────╨─────┐                ║ \n",
      "«c0: 4/╡ c0_0=0x1 ╞════════════════╩═\n",
      "«      └──────────┘                0 \n"
     ]
    }
   ],
   "source": [
    "qubits = QuantumRegister(4)\n",
    "clbits = ClassicalRegister(4)\n",
    "circuit = QuantumCircuit(qubits, clbits)\n",
    "(q0, q1, q2, q3) = qubits\n",
    "(c0, c1, c2, c3) = clbits\n",
    "\n",
    "circuit.h(q1)\n",
    "circuit.cx(q1, q2)\n",
    "circuit.cx(q3, q2)\n",
    "circuit.measure(q2, c2)\n",
    "with circuit.if_test((0, 1)):\n",
    "    circuit.x(q1)\n",
    "    circuit.x(q2)\n",
    "circuit.cu(0, 0, 0, 0, [1], [0])\n",
    "circuit.h(q1)\n",
    "circuit.measure(q1, c1)\n",
    "with circuit.if_test((0, 1)):\n",
    "    circuit.z(q1)\n",
    "    circuit.x(q3)\n",
    "circuit.measure(q0, c0)\n",
    "\n",
    "print(circuit)\n",
    "\n",
    "#backend = AerSimulator()\n",
    "#result=backend.run(qc).result()\n",
    "#counts = result.get_counts()\n",
    "#print(counts)"
   ]
  },
  {
   "cell_type": "code",
   "execution_count": 9,
   "id": "5b1eaaa0-3ea3-4123-a3b1-e4ac2df3988a",
   "metadata": {},
   "outputs": [
    {
     "data": {
      "image/png": "[encoded data removed]",
      "text/plain": [
       "<Figure size 800x600 with 1 Axes>"
      ]
     },
     "metadata": {},
     "output_type": "display_data"
    }
   ],
   "source": [
    "import networkx as nx\n",
    "import matplotlib.pyplot as plt\n",
    "\n",
    "def create_qubit_interaction_graph(circuit):\n",
    "    \"\"\"Creates a graph based on the quantum circuit where nodes are qubits and edges\n",
    "    are weighted by the number of 2-qubit gates between them.\"\"\"\n",
    "    \n",
    "    # Initialize a graph\n",
    "    G = nx.Graph()\n",
    "    \n",
    "    # Add nodes for each qubit\n",
    "    for qubit in range(circuit.num_qubits):\n",
    "        G.add_node(qubit)\n",
    "    \n",
    "    # Iterate through the circuit to find 2-qubit gates and update edge weights\n",
    "    for gate in circuit.data:\n",
    "        if len(gate[1]) == 2:  # If the gate acts on two qubits\n",
    "            qubit1 = circuit.find_bit(gate[1][0])[0]\n",
    "            qubit2 = circuit.find_bit(gate[1][1])[0]            \n",
    "            if G.has_edge(qubit1, qubit2):\n",
    "                G[qubit1][qubit2]['weight'] += 1\n",
    "            else:\n",
    "                G.add_edge(qubit1, qubit2, weight=1)\n",
    "\n",
    "    return G\n",
    "\n",
    "def get_color(index):\n",
    "    if index == 0:\n",
    "        return 'lightblue'\n",
    "    elif index == 1:\n",
    "        return 'lightpink'\n",
    "    elif index == 2:\n",
    "        return 'lightgreen'\n",
    "    else:\n",
    "        return 'lightgray'\n",
    "\n",
    "def plot_qubit_interaction_graph(G, title, clusters = None):\n",
    "    \"\"\"Plots the qubit interaction graph.\"\"\"\n",
    "    pos = nx.spring_layout(G)  # Layout for a visually appealing graph\n",
    "    plt.figure(figsize=(8, 6))  # Adjust the figure size if needed\n",
    "    \n",
    "    # Draw nodes\n",
    "    if clusters is None:\n",
    "        nx.draw_networkx_nodes(G, pos, node_color='lightblue', node_size=700)\n",
    "    else:\n",
    "        color = 0\n",
    "        for cluster in clusters:\n",
    "            nx.draw_networkx_nodes(G, pos, nodelist=cluster, node_color=get_color(color), node_size=700)\n",
    "            color = color + 1\n",
    "    nx.draw_networkx_labels(G, pos, font_size=12, font_color='black')\n",
    "    \n",
    "    # Draw edges with weights\n",
    "    edges = G.edges(data=True)\n",
    "    weights = [d['weight'] for (u, v, d) in edges]\n",
    "    \n",
    "    if edges:  # Ensure there are edges to draw\n",
    "        nx.draw_networkx_edges(G, pos, edgelist=edges, width=weights)\n",
    "        edge_labels = {(u, v): d['weight'] for u, v, d in edges}\n",
    "        nx.draw_networkx_edge_labels(G, pos, edge_labels=edge_labels)\n",
    "    \n",
    "    plt.title(title)\n",
    "    plt.show()\n",
    "\n",
    "# Create the qubit interaction graph\n",
    "G = create_qubit_interaction_graph(circuit)\n",
    "\n",
    "# Plot the graph\n",
    "plot_qubit_interaction_graph(G, \"Qubit Interaction Graph\")"
   ]
  },
  {
   "cell_type": "code",
   "execution_count": 10,
   "id": "59c342ad-5fb3-4953-a435-227c1e3e4ea7",
   "metadata": {},
   "outputs": [
    {
     "name": "stdout",
     "output_type": "stream",
     "text": [
      "[[0, 1, 2, 3], [4, 5]]\n"
     ]
    },
    {
     "data": {
      "image/png": "[encoded data removed]",
      "text/plain": [
       "<Figure size 800x600 with 1 Axes>"
      ]
     },
     "metadata": {},
     "output_type": "display_data"
    }
   ],
   "source": [
    "# Step 2 -- Break down algorithm\n",
    "# Input: `circuit`.\n",
    "# Output: `distribution_map`.\n",
    "\n",
    "import networkx as nx\n",
    "from networkx.algorithms.community import greedy_modularity_communities\n",
    "from networkx.algorithms.community.quality import modularity\n",
    "from itertools import combinations\n",
    "import random\n",
    "\n",
    "def calculate_edge_cut(G, nodes1, nodes2):\n",
    "    cut_value = 0\n",
    "    for u in nodes1:\n",
    "        for v in nodes2:\n",
    "            if G.has_edge(u, v):\n",
    "                cut_value += G[u][v].get('weight')\n",
    "    return cut_value\n",
    "\n",
    "def divide_graph(G, n):\n",
    "    communities = list(greedy_modularity_communities(G, weight='weight', cutoff=n, best_n=n))\n",
    "    return [list(f) for f in communities]\n",
    "\n",
    "clusters = divide_graph(G, 2)\n",
    "print(clusters)\n",
    "\n",
    "plot_qubit_interaction_graph(G, \"Qubit Interactions Graph [clustered]\", clusters)"
   ]
  },
  {
   "cell_type": "code",
   "execution_count": 12,
   "id": "3c8e9c5d-e395-49a8-98df-36ba6e71688a",
   "metadata": {},
   "outputs": [
    {
     "name": "stdout",
     "output_type": "stream",
     "text": [
      "Coupling map: EdgeList[(0, 1), (0, 2), (0, 3), (1, 2), (1, 3), (2, 3), (4, 5), (0, 4)]\n"
     ]
    },
    {
     "ename": "QiskitError",
     "evalue": "'No counts for experiment \"0\"'",
     "output_type": "error",
     "traceback": [
      "\u001b[0;31m---------------------------------------------------------------------------\u001b[0m",
      "\u001b[0;31mQiskitError\u001b[0m                               Traceback (most recent call last)",
      "Cell \u001b[0;32mIn[12], line 29\u001b[0m\n\u001b[1;32m     26\u001b[0m transpiled_distributed_qc\u001b[38;5;241m=\u001b[39mtranspile(qc, backend\u001b[38;5;241m=\u001b[39msimulator,coupling_map\u001b[38;5;241m=\u001b[39mcm)\n\u001b[1;32m     28\u001b[0m distributed_result\u001b[38;5;241m=\u001b[39msimulator\u001b[38;5;241m.\u001b[39mrun(transpiled_distributed_qc)\u001b[38;5;241m.\u001b[39mresult()\n\u001b[0;32m---> 29\u001b[0m \u001b[38;5;28mprint\u001b[39m(\u001b[43mdistributed_result\u001b[49m\u001b[38;5;241;43m.\u001b[39;49m\u001b[43mget_counts\u001b[49m\u001b[43m(\u001b[49m\u001b[43m)\u001b[49m)\n",
      "File \u001b[0;32m~/Library/Python/3.9/lib/python/site-packages/qiskit/result/result.py:289\u001b[0m, in \u001b[0;36mResult.get_counts\u001b[0;34m(self, experiment)\u001b[0m\n\u001b[1;32m    287\u001b[0m         dict_list\u001b[38;5;241m.\u001b[39mappend(statevector\u001b[38;5;241m.\u001b[39mStatevector(vec)\u001b[38;5;241m.\u001b[39mprobabilities_dict(decimals\u001b[38;5;241m=\u001b[39m\u001b[38;5;241m15\u001b[39m))\n\u001b[1;32m    288\u001b[0m     \u001b[38;5;28;01melse\u001b[39;00m:\n\u001b[0;32m--> 289\u001b[0m         \u001b[38;5;28;01mraise\u001b[39;00m QiskitError(\u001b[38;5;124mf\u001b[39m\u001b[38;5;124m'\u001b[39m\u001b[38;5;124mNo counts for experiment \u001b[39m\u001b[38;5;124m\"\u001b[39m\u001b[38;5;132;01m{\u001b[39;00m\u001b[38;5;28mrepr\u001b[39m(key)\u001b[38;5;132;01m}\u001b[39;00m\u001b[38;5;124m\"\u001b[39m\u001b[38;5;124m'\u001b[39m)\n\u001b[1;32m    291\u001b[0m \u001b[38;5;66;03m# Return first item of dict_list if size is 1\u001b[39;00m\n\u001b[1;32m    292\u001b[0m \u001b[38;5;28;01mif\u001b[39;00m \u001b[38;5;28mlen\u001b[39m(dict_list) \u001b[38;5;241m==\u001b[39m \u001b[38;5;241m1\u001b[39m:\n",
      "\u001b[0;31mQiskitError\u001b[0m: 'No counts for experiment \"0\"'"
     ]
    }
   ],
   "source": [
    "# Step 3 -- Run with distributed system simulator\n",
    "# Input: `circuit`, `clusters`.\n",
    "# Output: N/D.\n",
    "\n",
    "from itertools import product   \n",
    "from itertools import permutations        \n",
    "from itertools import combinations\n",
    "from qiskit.compiler.transpiler import CouplingMap, transpile\n",
    "from qiskit_aer import AerSimulator\n",
    "\n",
    "map = clusters\n",
    "qc = circuit\n",
    "\n",
    "cm = CouplingMap()\n",
    "for i in range(qc.num_qubits):\n",
    "    cm.add_physical_qubit(i)\n",
    "\n",
    "for i in range(len(clusters)):\n",
    "    for j in range(len(map[i])):\n",
    "        for k in range(j+1,len(map[i])):\n",
    "            cm.add_edge(map[i][j],map[i][k])\n",
    "\n",
    "for i in range(len(map)):\n",
    "    for j in range(i+1, len(map)):\n",
    "        cm.add_edge(map[i][0],map[j][0])\n",
    "\n",
    "print(\"Coupling map:\", cm.get_edges())\n",
    "\n",
    "simulator = AerSimulator()\n",
    "transpiled_distributed_qc=transpile(qc, backend=simulator,coupling_map=cm)\n",
    "\n",
    "distributed_result=simulator.run(transpiled_distributed_qc).result()\n",
    "print(distributed_result.get_counts())"
   ]
  },
  {
   "cell_type": "code",
   "execution_count": null,
   "id": "54b5c07c-b1a0-43fc-98a2-7bc262722170",
   "metadata": {},
   "outputs": [],
   "source": []
  }
 ],
 "metadata": {
  "kernelspec": {
   "display_name": "Python 3 (ipykernel)",
   "language": "python",
   "name": "python3"
  },
  "language_info": {
   "codemirror_mode": {
    "name": "ipython",
    "version": 3
   },
   "file_extension": ".py",
   "mimetype": "text/x-python",
   "name": "python",
   "nbconvert_exporter": "python",
   "pygments_lexer": "ipython3",
   "version": "3.9.6"
  }
 },
 "nbformat": 4,
 "nbformat_minor": 5
}
